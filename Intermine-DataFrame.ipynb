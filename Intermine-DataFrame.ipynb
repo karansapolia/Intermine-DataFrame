{
 "cells": [
  {
   "cell_type": "code",
   "execution_count": 8,
   "metadata": {},
   "outputs": [],
   "source": [
    "from intermine.webservice import Service\n",
    "import pandas as pd"
   ]
  },
  {
   "cell_type": "code",
   "execution_count": 3,
   "metadata": {},
   "outputs": [],
   "source": [
    "service = Service(\"www.flymine.org/query/service\")\n",
    "query=service.new_query()"
   ]
  },
  {
   "cell_type": "code",
   "execution_count": 4,
   "metadata": {},
   "outputs": [
    {
     "data": {
      "text/plain": [
       "<intermine.query.Query at 0x7fb60b6a9e10>"
      ]
     },
     "execution_count": 4,
     "metadata": {},
     "output_type": "execute_result"
    }
   ],
   "source": [
    "query.select(\"Gene.symbol\",\"Gene.primaryIdentifier\", \"Gene.length\")"
   ]
  },
  {
   "cell_type": "code",
   "execution_count": 37,
   "metadata": {},
   "outputs": [
    {
     "name": "stdout",
     "output_type": "stream",
     "text": [
      "'0610005C13Rik' 'MGI:1918911' None\n",
      "[\"symbol='0610005C13Rik'\", \"primaryIdentifier='MGI:1918911'\", 'length=None']\n",
      "<class 'list'>\n",
      "symbol primaryIdentifier length\n"
     ]
    }
   ],
   "source": [
    "for row in query.rows(start=0,size=1):\n",
    "    row = str(row).split()[1:]\n",
    "#     print(type(str(row)))\n",
    "    col1, col2, col3 = row\n",
    "\n",
    "    \n",
    "    col1 = col1.split(\"=\")[-1]\n",
    "    col2 = col2.split(\"=\")[-1]\n",
    "    col3 = col3.split(\"=\")[-1]\n",
    "\n",
    "    print(col1, col2, col3)\n",
    "    print(row)\n",
    "    print(type(row))\n",
    "print(col1_name, col2_name, col3_name)\n"
   ]
  },
  {
   "cell_type": "code",
   "execution_count": 10,
   "metadata": {},
   "outputs": [],
   "source": [
    "import csv"
   ]
  },
  {
   "cell_type": "code",
   "execution_count": 39,
   "metadata": {},
   "outputs": [],
   "source": [
    "with open('csvfile.csv','w') as file:\n",
    "    wr = csv.writer(file, quoting=csv.QUOTE_ALL)\n",
    "    \n",
    "    for row in query.rows(start=0,size=10):\n",
    "        row = str(row).split()[1:]\n",
    "    #     print(type(str(row)))\n",
    "        col1, col2, col3 = row\n",
    "\n",
    "\n",
    "        col1 = col1.split(\"=\")[-1]\n",
    "        col2 = col2.split(\"=\")[-1]\n",
    "        col3 = col3.split(\"=\")[-1]\n",
    "        \n",
    "        final_row = [col1, col2, col3]\n",
    "        \n",
    "        wr.writerow(final_row)"
   ]
  },
  {
   "cell_type": "code",
   "execution_count": 41,
   "metadata": {},
   "outputs": [],
   "source": [
    "col1_name, col2_name, col3_name = (\"symbol\",\"primaryIdentifier\", \"length\")\n",
    "df = pd.read_csv(\"csvfile.csv\", names=[col1_name, col2_name, col3_name], header=None)"
   ]
  },
  {
   "cell_type": "code",
   "execution_count": 42,
   "metadata": {},
   "outputs": [
    {
     "data": {
      "text/html": [
       "<div>\n",
       "<style scoped>\n",
       "    .dataframe tbody tr th:only-of-type {\n",
       "        vertical-align: middle;\n",
       "    }\n",
       "\n",
       "    .dataframe tbody tr th {\n",
       "        vertical-align: top;\n",
       "    }\n",
       "\n",
       "    .dataframe thead th {\n",
       "        text-align: right;\n",
       "    }\n",
       "</style>\n",
       "<table border=\"1\" class=\"dataframe\">\n",
       "  <thead>\n",
       "    <tr style=\"text-align: right;\">\n",
       "      <th></th>\n",
       "      <th>symbol</th>\n",
       "      <th>primaryIdentifier</th>\n",
       "      <th>length</th>\n",
       "    </tr>\n",
       "  </thead>\n",
       "  <tbody>\n",
       "    <tr>\n",
       "      <th>0</th>\n",
       "      <td>'0610005C13Rik'</td>\n",
       "      <td>'MGI:1918911'</td>\n",
       "      <td>None</td>\n",
       "    </tr>\n",
       "    <tr>\n",
       "      <th>1</th>\n",
       "      <td>'0610006L08Rik'</td>\n",
       "      <td>'MGI:1923503'</td>\n",
       "      <td>None</td>\n",
       "    </tr>\n",
       "    <tr>\n",
       "      <th>2</th>\n",
       "      <td>'0610008J02Rik'</td>\n",
       "      <td>'MGI:1925547'</td>\n",
       "      <td>None</td>\n",
       "    </tr>\n",
       "    <tr>\n",
       "      <th>3</th>\n",
       "      <td>'0610009B22Rik'</td>\n",
       "      <td>'MGI:1913300'</td>\n",
       "      <td>None</td>\n",
       "    </tr>\n",
       "    <tr>\n",
       "      <th>4</th>\n",
       "      <td>'0610009E02Rik'</td>\n",
       "      <td>'MGI:3698435'</td>\n",
       "      <td>None</td>\n",
       "    </tr>\n",
       "    <tr>\n",
       "      <th>5</th>\n",
       "      <td>'0610009F21Rik'</td>\n",
       "      <td>'MGI:1918921'</td>\n",
       "      <td>None</td>\n",
       "    </tr>\n",
       "    <tr>\n",
       "      <th>6</th>\n",
       "      <td>'0610009K14Rik'</td>\n",
       "      <td>'MGI:1918931'</td>\n",
       "      <td>None</td>\n",
       "    </tr>\n",
       "    <tr>\n",
       "      <th>7</th>\n",
       "      <td>'0610009L18Rik'</td>\n",
       "      <td>'MGI:1914088'</td>\n",
       "      <td>None</td>\n",
       "    </tr>\n",
       "    <tr>\n",
       "      <th>8</th>\n",
       "      <td>'0610009O20Rik'</td>\n",
       "      <td>'MGI:1914089'</td>\n",
       "      <td>None</td>\n",
       "    </tr>\n",
       "    <tr>\n",
       "      <th>9</th>\n",
       "      <td>'0610010F05Rik'</td>\n",
       "      <td>'MGI:1918925'</td>\n",
       "      <td>None</td>\n",
       "    </tr>\n",
       "  </tbody>\n",
       "</table>\n",
       "</div>"
      ],
      "text/plain": [
       "            symbol primaryIdentifier length\n",
       "0  '0610005C13Rik'     'MGI:1918911'   None\n",
       "1  '0610006L08Rik'     'MGI:1923503'   None\n",
       "2  '0610008J02Rik'     'MGI:1925547'   None\n",
       "3  '0610009B22Rik'     'MGI:1913300'   None\n",
       "4  '0610009E02Rik'     'MGI:3698435'   None\n",
       "5  '0610009F21Rik'     'MGI:1918921'   None\n",
       "6  '0610009K14Rik'     'MGI:1918931'   None\n",
       "7  '0610009L18Rik'     'MGI:1914088'   None\n",
       "8  '0610009O20Rik'     'MGI:1914089'   None\n",
       "9  '0610010F05Rik'     'MGI:1918925'   None"
      ]
     },
     "execution_count": 42,
     "metadata": {},
     "output_type": "execute_result"
    }
   ],
   "source": [
    "df"
   ]
  }
 ],
 "metadata": {
  "kernelspec": {
   "display_name": "Python 3",
   "language": "python",
   "name": "python3"
  },
  "language_info": {
   "codemirror_mode": {
    "name": "ipython",
    "version": 3
   },
   "file_extension": ".py",
   "mimetype": "text/x-python",
   "name": "python",
   "nbconvert_exporter": "python",
   "pygments_lexer": "ipython3",
   "version": "3.6.5"
  }
 },
 "nbformat": 4,
 "nbformat_minor": 2
}
